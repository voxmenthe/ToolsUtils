{
 "cells": [
  {
   "cell_type": "markdown",
   "metadata": {},
   "source": [
    "## Fonts & Fontsize\n",
    "\n",
    " * Fontsize: \\Huge  \\huge  \\LARGE  \\Large  \\large  \\normalsize (default)  \\small  \\footnotesize  \\scriptsize  \\tiny\n",
    " \n",
    "Links:\n",
    "* A comprehensive latex symbol reference: http://ftp.math.purdue.edu/mirrors/ctan.org/info/symbols/comprehensive/symbols-a4.pdf#page=119\n",
    "* Some LaTex environments for Jupyter notebooks: https://jupyter-contrib-nbextensions.readthedocs.io/en/latest/nbextensions/latex_envs/README.html\n"
   ]
  },
  {
   "cell_type": "raw",
   "metadata": {},
   "source": [
    "Font sample     Generating command      Required package\n",
    "ABCdef123       \\mathrm{ABCdef123}      none\n",
    "ABCdef123       \\mathit{ABCdef123} none\n",
    "𝐴𝐵𝐶𝑑𝑒𝑓 123      \\mathnormal{ABCdef123} none\n",
    "𝒜ℬ𝒞           \\mathcal{ABC} none\n",
    "𝒜ℬ𝒞           \\mathscr{ABC} mathrsfs\n",
    "or              \\mathcal{ABC} calrsfs\n",
    "ABC            \\mathcal{ABC} euscript with the mathcal option\n",
    "or             \\mathscr{ABC} euscript with the mathscr option\n",
    "ABC            \\mathcal{ABC} rsfso\n",
    "or            \\mathscr{ABC} rsfso with the scr option\n",
    "ABC           \\mathcal{ABC} urwchancal*\n",
    "or           \\mathscr{ABC} urwchancal* with the mathscr option\n",
    "ABC               \\mathbb{ABC} amsfonts,\n",
    "S\n",
    "amssymb, txfonts, or pxfonts\n",
    " \\varmathbb{ABC} txfonts or pxfonts\n",
    "ABCdef123 \\mathbb{ABCdef123} bbold or mathbbol†\n",
    "ABCdef123 \\mathbb{ABCdef123} mbboard†\n",
    "ABCdef12 \\mathbbm{ABCdef12} bbm\n",
    "ABCdef12 \\mathbbmss{ABCdef12} bbm\n",
    "ABCdef12 \\mathbbmtt{ABCdef12} bbm\n",
    "ABC1 \\mathds{ABC1} dsfont\n",
    "ABC1 \\mathds{ABC1} dsfont with the sans option\n",
    "ÁÂÃ \\symA\\symB\\symC china2e‡\n",
    "ABCdef123 \\mathfrak{ABCdef123} eufrak\n",
    "ABCdef123 \\textfrak{ABCdef123} yfonts¶\n",
    "ABCdef123 \\textswab{ABCdef123} yfonts¶\n",
    "ABCˇf123 \\textgoth{ABCdef123} yfonts¶"
   ]
  },
  {
   "cell_type": "markdown",
   "metadata": {},
   "source": [
    "$$\\Large{K(x,y) = \\phi(x) \\cdot \\phi(y)}$$"
   ]
  },
  {
   "cell_type": "code",
   "execution_count": null,
   "metadata": {},
   "outputs": [],
   "source": []
  },
  {
   "cell_type": "markdown",
   "metadata": {},
   "source": [
    "$$\\Large{K(x,y) = exp \\Bigg (\\frac{-\\|x-y\\|^2}{2\\sigma ^2} \\Bigg ) }$$"
   ]
  },
  {
   "cell_type": "code",
   "execution_count": null,
   "metadata": {},
   "outputs": [],
   "source": []
  }
 ],
 "metadata": {
  "kernelspec": {
   "display_name": "Python 3",
   "language": "python",
   "name": "python3"
  },
  "language_info": {
   "codemirror_mode": {
    "name": "ipython",
    "version": 3
   },
   "file_extension": ".py",
   "mimetype": "text/x-python",
   "name": "python",
   "nbconvert_exporter": "python",
   "pygments_lexer": "ipython3",
   "version": "3.6.5"
  }
 },
 "nbformat": 4,
 "nbformat_minor": 2
}
