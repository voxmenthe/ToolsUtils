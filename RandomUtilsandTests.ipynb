{
 "cells": [
  {
   "cell_type": "code",
   "execution_count": 2,
   "metadata": {},
   "outputs": [],
   "source": [
    "import numpy as np"
   ]
  },
  {
   "cell_type": "code",
   "execution_count": 3,
   "metadata": {},
   "outputs": [],
   "source": [
    "params = {\n",
    "    'min_kernel': 2,\n",
    "    'max_kernel': 9,\n",
    "    'min_padding': 0,\n",
    "    'max_padding': 5,\n",
    "    'min_stride': 1,\n",
    "    'max_stride': 5\n",
    "}"
   ]
  },
  {
   "cell_type": "code",
   "execution_count": 4,
   "metadata": {},
   "outputs": [],
   "source": [
    "def calculate_output_size(input_size, kernel=2, padding=0, stride=1):\n",
    "    # ((W-F+2*P)/S)+1 must be int\n",
    "    out = ((input_size - kernel + 2*padding)/stride) + 1\n",
    "    return out\n",
    "\n",
    "def find_kernel_stride_padding_options(input_size, output_size,\n",
    "                                      min_kernel=2, max_kernel=8,\n",
    "                                      min_padding=0, max_padding=3,\n",
    "                                      min_stride=1, max_stride=4):\n",
    "    combs = []\n",
    "    for k in range(min_kernel,max_kernel+1):\n",
    "        for p in range(min_padding,max_padding+1):\n",
    "            for s in range(min_stride,max_stride+1):\n",
    "                # ((W-F+2*P)/S)+1 must be int\n",
    "                out = ((input_size - k + 2*p)/s) + 1\n",
    "                if out == int(out) and out == output_size:\n",
    "                    combs.append(((\"k\" + str(k),\"p\" + str(p), \"s\" + str(s)), out))\n",
    "    return combs\n",
    " \n",
    "def combos_numpy(n, conditions):\n",
    "\tconditions[0] = 1\n",
    "\t# Create the entire array of possible values\n",
    "\tvalid = np.arange(10**(n-1), 10**n, dtype=np.int32)\n",
    "\t# Iterate through the set of conditions\n",
    "\tfor digit in conditions:\n",
    "\t\t# x mod 10^(i + 1) integer divide 10^i will extract the i-th digit of x\n",
    "\t\t# The equals combined with the sum will tell us the count of the digit in question. This line is basically doing x.count(digit) for every number in the array.\n",
    "\t\tmask = np.sum(valid % 10**(i+1) // (10**i) == digit for i in range(n))\n",
    "\t\t# EDIT: It looks like Quora's syntax highlighting views the integer division operator '//' as C style commenting. This is part of the code - not a comment!\n",
    "\t\tmask = mask < conditions[digit]\n",
    "\t\tvalid = valid[mask]\n",
    "\treturn valid\n",
    "\n",
    "def get_final_output_size(orig_input, kernel=2, stride=2, padding=0, n_layers=1):\n",
    "    sizes = []\n",
    "    for _ in range(n_layers):\n",
    "        out = calculate_output_size(orig_input, kernel=kernel, stride=stride, padding=padding)\n",
    "        sizes.append(out)\n",
    "        orig_input = out\n",
    "    return sizes"
   ]
  },
  {
   "cell_type": "markdown",
   "metadata": {},
   "source": [
    "#### Original case = 28x28"
   ]
  },
  {
   "cell_type": "code",
   "execution_count": 5,
   "metadata": {},
   "outputs": [
    {
     "data": {
      "text/plain": [
       "[16.0, 8.0, 4.0]"
      ]
     },
     "execution_count": 5,
     "metadata": {},
     "output_type": "execute_result"
    }
   ],
   "source": [
    "# Initial layer - 28 --> 32 due to padding=1 ??\n",
    "get_final_output_size(32, kernel=4, stride=2, padding=1, n_layers=3)"
   ]
  },
  {
   "cell_type": "markdown",
   "metadata": {},
   "source": [
    "#### 64x64 case"
   ]
  },
  {
   "cell_type": "code",
   "execution_count": 6,
   "metadata": {},
   "outputs": [
    {
     "data": {
      "text/plain": [
       "[32.0, 16.0, 8.0, 4.0]"
      ]
     },
     "execution_count": 6,
     "metadata": {},
     "output_type": "execute_result"
    }
   ],
   "source": [
    "# In this case initial layer does NOT need to go 64 --> 66 due to padding=1 ???\n",
    "get_final_output_size(64,kernel=4, stride=2, padding=1, n_layers=4)"
   ]
  },
  {
   "cell_type": "markdown",
   "metadata": {},
   "source": [
    "#### Tentative 128x128 case"
   ]
  },
  {
   "cell_type": "code",
   "execution_count": 7,
   "metadata": {},
   "outputs": [
    {
     "data": {
      "text/plain": [
       "[64.0, 32.0, 16.0, 8.0, 4.0]"
      ]
     },
     "execution_count": 7,
     "metadata": {},
     "output_type": "execute_result"
    }
   ],
   "source": [
    "get_final_output_size(128,kernel=4, stride=2, padding=1, n_layers=5)"
   ]
  },
  {
   "cell_type": "code",
   "execution_count": 8,
   "metadata": {},
   "outputs": [
    {
     "data": {
      "text/plain": [
       "256"
      ]
     },
     "execution_count": 8,
     "metadata": {},
     "output_type": "execute_result"
    }
   ],
   "source": [
    "128*2"
   ]
  },
  {
   "cell_type": "code",
   "execution_count": 9,
   "metadata": {},
   "outputs": [
    {
     "data": {
      "text/plain": [
       "130.0"
      ]
     },
     "execution_count": 9,
     "metadata": {},
     "output_type": "execute_result"
    }
   ],
   "source": [
    "calculate_output_size(260, kernel=4, stride=2, padding=1)"
   ]
  },
  {
   "cell_type": "code",
   "execution_count": 29,
   "metadata": {},
   "outputs": [
    {
     "data": {
      "text/plain": [
       "[(('k2', 'p5', 's2'), 117.0)]"
      ]
     },
     "execution_count": 29,
     "metadata": {},
     "output_type": "execute_result"
    }
   ],
   "source": [
    "find_kernel_stride_padding_options(224,117,**params)"
   ]
  },
  {
   "cell_type": "code",
   "execution_count": 40,
   "metadata": {},
   "outputs": [
    {
     "data": {
      "text/plain": [
       "[2]"
      ]
     },
     "execution_count": 40,
     "metadata": {},
     "output_type": "execute_result"
    }
   ],
   "source": [
    "z = []\n",
    "z.append(2)\n",
    "z"
   ]
  },
  {
   "cell_type": "code",
   "execution_count": 66,
   "metadata": {},
   "outputs": [],
   "source": [
    "def find_two_layer_options(reduced_dim,starting_dim):\n",
    "    output = []\n",
    "    options = []\n",
    "    for i in range(reduced_dim+1,starting_dim-1):\n",
    "        x = find_kernel_stride_padding_options(starting_dim,i,**params)\n",
    "        if x:\n",
    "            output.append(i)\n",
    "\n",
    "    for option in output:\n",
    "        y = find_kernel_stride_padding_options(option,reduced_dim,**params)\n",
    "        if y:\n",
    "            options.append(y)\n",
    "            \n",
    "    return options"
   ]
  },
  {
   "cell_type": "code",
   "execution_count": 72,
   "metadata": {},
   "outputs": [
    {
     "name": "stdout",
     "output_type": "stream",
     "text": [
      "248 [[(('k2', 'p0', 's1'), 128.0), (('k4', 'p1', 's1'), 128.0), (('k6', 'p2', 's1'), 128.0), (('k8', 'p3', 's1'), 128.0)], [(('k2', 'p5', 's2'), 128.0)]]\n",
      "249 [[(('k2', 'p0', 's1'), 128.0), (('k4', 'p1', 's1'), 128.0), (('k6', 'p2', 's1'), 128.0), (('k8', 'p3', 's1'), 128.0)], [(('k2', 'p5', 's2'), 128.0)], [(('k3', 'p5', 's2'), 128.0)]]\n"
     ]
    }
   ],
   "source": [
    "results = []\n",
    "for i in range(198,250):\n",
    "    x = find_two_layer_options(128,i)\n",
    "    if x:\n",
    "        print(i,x)\n",
    "        results.append((i,x))"
   ]
  },
  {
   "cell_type": "code",
   "execution_count": 77,
   "metadata": {},
   "outputs": [
    {
     "data": {
      "text/plain": [
       "248.0"
      ]
     },
     "execution_count": 77,
     "metadata": {},
     "output_type": "execute_result"
    }
   ],
   "source": [
    "calculate_output_size(249,kernel=4,padding=1,stride=1)"
   ]
  },
  {
   "cell_type": "code",
   "execution_count": 78,
   "metadata": {},
   "outputs": [
    {
     "data": {
      "text/plain": [
       "256"
      ]
     },
     "execution_count": 78,
     "metadata": {},
     "output_type": "execute_result"
    }
   ],
   "source": [
    "128+128"
   ]
  },
  {
   "cell_type": "code",
   "execution_count": 79,
   "metadata": {},
   "outputs": [
    {
     "data": {
      "text/plain": [
       "[128.0, 64.0, 32.0, 16.0, 8.0, 4.0]"
      ]
     },
     "execution_count": 79,
     "metadata": {},
     "output_type": "execute_result"
    }
   ],
   "source": [
    "get_final_output_size(256,kernel=4, stride=2, padding=1, n_layers=6)"
   ]
  },
  {
   "cell_type": "code",
   "execution_count": 14,
   "metadata": {},
   "outputs": [
    {
     "data": {
      "text/plain": [
       "[(('k4', 'p0', 's4'), 32.0),\n",
       " (('k6', 'p1', 's4'), 32.0),\n",
       " (('k8', 'p2', 's4'), 32.0)]"
      ]
     },
     "execution_count": 14,
     "metadata": {},
     "output_type": "execute_result"
    }
   ],
   "source": [
    "find_kernel_stride_padding_options(128,32,**params)"
   ]
  },
  {
   "cell_type": "code",
   "execution_count": 16,
   "metadata": {},
   "outputs": [],
   "source": [
    "def find_first_n_results(in_size, n):\n",
    "    all_results = []\n",
    "    num_results = 0\n",
    "    orig_in_size = in_size\n",
    "    while in_size >= 4:\n",
    "        in_size -= 2\n",
    "        results = find_kernel_stride_padding_options(orig_in_size, in_size, **params)\n",
    "        if results:\n",
    "            num_results +=1\n",
    "            all_results.extend(results)\n",
    "        if num_results >= n:\n",
    "            return all_results\n",
    "    return all_results"
   ]
  },
  {
   "cell_type": "code",
   "execution_count": 21,
   "metadata": {},
   "outputs": [
    {
     "data": {
      "text/plain": [
       "[(('k2', 'p1', 's2'), 66.0),\n",
       " (('k2', 'p2', 's4'), 34.0),\n",
       " (('k2', 'p3', 's2'), 68.0),\n",
       " (('k3', 'p0', 's1'), 128.0),\n",
       " (('k3', 'p1', 's3'), 44.0),\n",
       " (('k3', 'p4', 's3'), 46.0),\n",
       " (('k3', 'p4', 's5'), 28.0),\n",
       " (('k4', 'p0', 's2'), 64.0),\n",
       " (('k4', 'p2', 's2'), 66.0),\n",
       " (('k4', 'p3', 's4'), 34.0),\n",
       " (('k4', 'p4', 's2'), 68.0),\n",
       " (('k5', 'p0', 's1'), 126.0),\n",
       " (('k5', 'p0', 's5'), 26.0),\n",
       " (('k5', 'p1', 's1'), 128.0),\n",
       " (('k5', 'p2', 's3'), 44.0),\n",
       " (('k6', 'p0', 's4'), 32.0),\n",
       " (('k6', 'p1', 's2'), 64.0),\n",
       " (('k6', 'p3', 's2'), 66.0),\n",
       " (('k6', 'p4', 's4'), 34.0),\n",
       " (('k7', 'p0', 's1'), 124.0),\n",
       " (('k7', 'p0', 's3'), 42.0),\n",
       " (('k7', 'p1', 's1'), 126.0),\n",
       " (('k7', 'p1', 's5'), 26.0),\n",
       " (('k7', 'p2', 's1'), 128.0),\n",
       " (('k7', 'p3', 's3'), 44.0),\n",
       " (('k8', 'p0', 's2'), 62.0),\n",
       " (('k8', 'p1', 's4'), 32.0),\n",
       " (('k8', 'p2', 's2'), 64.0),\n",
       " (('k8', 'p4', 's2'), 66.0),\n",
       " (('k9', 'p0', 's1'), 122.0),\n",
       " (('k9', 'p1', 's1'), 124.0),\n",
       " (('k9', 'p1', 's3'), 42.0),\n",
       " (('k9', 'p2', 's1'), 126.0),\n",
       " (('k9', 'p2', 's5'), 26.0),\n",
       " (('k9', 'p3', 's1'), 128.0),\n",
       " (('k9', 'p4', 's3'), 44.0)]"
      ]
     },
     "execution_count": 21,
     "metadata": {},
     "output_type": "execute_result"
    }
   ],
   "source": [
    "sorted(find_first_n_results(128,30))"
   ]
  },
  {
   "cell_type": "code",
   "execution_count": 73,
   "metadata": {},
   "outputs": [
    {
     "data": {
      "text/plain": [
       "[(('k6', 'p0', 's2'), 128.0), (('k8', 'p1', 's2'), 128.0)]"
      ]
     },
     "execution_count": 73,
     "metadata": {},
     "output_type": "execute_result"
    }
   ],
   "source": [
    "find_kernel_stride_padding_options(260,128,**params)"
   ]
  },
  {
   "cell_type": "code",
   "execution_count": 74,
   "metadata": {},
   "outputs": [
    {
     "data": {
      "text/plain": [
       "[(('k2', 'p0', 's2'), 64.0),\n",
       " (('k4', 'p1', 's2'), 64.0),\n",
       " (('k6', 'p2', 's2'), 64.0),\n",
       " (('k8', 'p3', 's2'), 64.0)]"
      ]
     },
     "execution_count": 74,
     "metadata": {},
     "output_type": "execute_result"
    }
   ],
   "source": [
    "find_kernel_stride_padding_options(128,64,**params)"
   ]
  },
  {
   "cell_type": "code",
   "execution_count": 72,
   "metadata": {},
   "outputs": [
    {
     "data": {
      "text/plain": [
       "[(('k2', 'p0', 's2'), 32.0),\n",
       " (('k4', 'p1', 's2'), 32.0),\n",
       " (('k6', 'p2', 's2'), 32.0),\n",
       " (('k8', 'p3', 's2'), 32.0)]"
      ]
     },
     "execution_count": 72,
     "metadata": {},
     "output_type": "execute_result"
    }
   ],
   "source": [
    "find_kernel_stride_padding_options(64,32,**params)"
   ]
  },
  {
   "cell_type": "code",
   "execution_count": 71,
   "metadata": {},
   "outputs": [
    {
     "data": {
      "text/plain": [
       "[(('k3', 'p0', 's1'), 254.0),\n",
       " (('k5', 'p1', 's1'), 254.0),\n",
       " (('k7', 'p2', 's1'), 254.0),\n",
       " (('k9', 'p3', 's1'), 254.0)]"
      ]
     },
     "execution_count": 71,
     "metadata": {},
     "output_type": "execute_result"
    }
   ],
   "source": [
    "find_kernel_stride_padding_options(256,254,**params)"
   ]
  },
  {
   "cell_type": "code",
   "execution_count": 13,
   "metadata": {},
   "outputs": [
    {
     "data": {
      "text/plain": [
       "[(1, 2), (1, 34), (2, 34)]"
      ]
     },
     "execution_count": 13,
     "metadata": {},
     "output_type": "execute_result"
    }
   ],
   "source": [
    "from itertools import combinations\n",
    "comb = combinations([1,2,34],2)\n",
    "list(comb)"
   ]
  },
  {
   "cell_type": "code",
   "execution_count": 4,
   "metadata": {},
   "outputs": [],
   "source": []
  },
  {
   "cell_type": "code",
   "execution_count": 8,
   "metadata": {},
   "outputs": [
    {
     "name": "stderr",
     "output_type": "stream",
     "text": [
      "/opt/conda/lib/python3.6/site-packages/ipykernel_launcher.py:11: DeprecationWarning: Calling np.sum(generator) is deprecated, and in the future will give a different result. Use np.sum(np.from_iter(generator)) or the python sum builtin instead.\n",
      "  # This is added back by InteractiveShellApp.init_path()\n"
     ]
    },
    {
     "ename": "IndexError",
     "evalue": "list index out of range",
     "output_type": "error",
     "traceback": [
      "\u001b[0;31m---------------------------------------------------------------------------\u001b[0m",
      "\u001b[0;31mIndexError\u001b[0m                                Traceback (most recent call last)",
      "\u001b[0;32m<ipython-input-8-65f1d918a7df>\u001b[0m in \u001b[0;36m<module>\u001b[0;34m()\u001b[0m\n\u001b[0;32m----> 1\u001b[0;31m \u001b[0mcombos_numpy\u001b[0m\u001b[0;34m(\u001b[0m\u001b[0;36m3\u001b[0m\u001b[0;34m,\u001b[0m\u001b[0;34m[\u001b[0m\u001b[0;36m1\u001b[0m\u001b[0;34m,\u001b[0m\u001b[0;36m2\u001b[0m\u001b[0;34m,\u001b[0m\u001b[0;36m3\u001b[0m\u001b[0;34m]\u001b[0m\u001b[0;34m)\u001b[0m\u001b[0;34m\u001b[0m\u001b[0m\n\u001b[0m",
      "\u001b[0;32m<ipython-input-4-a756807b453a>\u001b[0m in \u001b[0;36mcombos_numpy\u001b[0;34m(n, conditions)\u001b[0m\n\u001b[1;32m     11\u001b[0m                 \u001b[0mmask\u001b[0m \u001b[0;34m=\u001b[0m \u001b[0mnp\u001b[0m\u001b[0;34m.\u001b[0m\u001b[0msum\u001b[0m\u001b[0;34m(\u001b[0m\u001b[0mvalid\u001b[0m \u001b[0;34m%\u001b[0m \u001b[0;36m10\u001b[0m\u001b[0;34m**\u001b[0m\u001b[0;34m(\u001b[0m\u001b[0mi\u001b[0m\u001b[0;34m+\u001b[0m\u001b[0;36m1\u001b[0m\u001b[0;34m)\u001b[0m \u001b[0;34m//\u001b[0m \u001b[0;34m(\u001b[0m\u001b[0;36m10\u001b[0m\u001b[0;34m**\u001b[0m\u001b[0mi\u001b[0m\u001b[0;34m)\u001b[0m \u001b[0;34m==\u001b[0m \u001b[0mdigit\u001b[0m \u001b[0;32mfor\u001b[0m \u001b[0mi\u001b[0m \u001b[0;32min\u001b[0m \u001b[0mrange\u001b[0m\u001b[0;34m(\u001b[0m\u001b[0mn\u001b[0m\u001b[0;34m)\u001b[0m\u001b[0;34m)\u001b[0m\u001b[0;34m\u001b[0m\u001b[0m\n\u001b[1;32m     12\u001b[0m                 \u001b[0;31m# EDIT: It looks like Quora's syntax highlighting views the integer division operator '//' as C style commenting. This is part of the code - not a comment!\u001b[0m\u001b[0;34m\u001b[0m\u001b[0;34m\u001b[0m\u001b[0m\n\u001b[0;32m---> 13\u001b[0;31m                 \u001b[0mmask\u001b[0m \u001b[0;34m=\u001b[0m \u001b[0mmask\u001b[0m \u001b[0;34m<\u001b[0m \u001b[0mconditions\u001b[0m\u001b[0;34m[\u001b[0m\u001b[0mdigit\u001b[0m\u001b[0;34m]\u001b[0m\u001b[0;34m\u001b[0m\u001b[0m\n\u001b[0m\u001b[1;32m     14\u001b[0m                 \u001b[0mvalid\u001b[0m \u001b[0;34m=\u001b[0m \u001b[0mvalid\u001b[0m\u001b[0;34m[\u001b[0m\u001b[0mmask\u001b[0m\u001b[0;34m]\u001b[0m\u001b[0;34m\u001b[0m\u001b[0m\n\u001b[1;32m     15\u001b[0m         \u001b[0;32mreturn\u001b[0m \u001b[0mvalid\u001b[0m\u001b[0;34m\u001b[0m\u001b[0m\n",
      "\u001b[0;31mIndexError\u001b[0m: list index out of range"
     ]
    }
   ],
   "source": [
    "combos_numpy(3,[1,2,3])"
   ]
  },
  {
   "cell_type": "markdown",
   "metadata": {},
   "source": [
    "#### `torch.nn.ConvTranspose2d(in_channels, out_channels, kernel_size, stride=1, padding=0, output_padding=0, groups=1, bias=True, dilation=1)`\n",
    "\n",
    "#### Applies a 2D transposed convolution operator over an input image composed of several input planes.\n",
    "\n",
    "#### This module can be seen as the gradient of Conv2d with respect to its input.\n",
    "\n",
    "* It is also known as a fractionally-strided convolution or a deconvolution (although it is not an actual deconvolution operation)."
   ]
  },
  {
   "cell_type": "code",
   "execution_count": 75,
   "metadata": {},
   "outputs": [],
   "source": [
    "import torch"
   ]
  },
  {
   "cell_type": "code",
   "execution_count": 76,
   "metadata": {},
   "outputs": [
    {
     "ename": "AttributeError",
     "evalue": "module 'torch.nn' has no attribute 'ConvTranspose2D'",
     "output_type": "error",
     "traceback": [
      "\u001b[0;31m---------------------------------------------------------------------------\u001b[0m",
      "\u001b[0;31mAttributeError\u001b[0m                            Traceback (most recent call last)",
      "\u001b[0;32m<ipython-input-76-546ece9cec0d>\u001b[0m in \u001b[0;36m<module>\u001b[0;34m()\u001b[0m\n\u001b[0;32m----> 1\u001b[0;31m \u001b[0mtorch\u001b[0m\u001b[0;34m.\u001b[0m\u001b[0mnn\u001b[0m\u001b[0;34m.\u001b[0m\u001b[0mConvTranspose2D\u001b[0m\u001b[0;34m(\u001b[0m\u001b[0;34m)\u001b[0m\u001b[0;34m\u001b[0m\u001b[0m\n\u001b[0m",
      "\u001b[0;31mAttributeError\u001b[0m: module 'torch.nn' has no attribute 'ConvTranspose2D'"
     ]
    }
   ],
   "source": [
    "torch.nn.ConvTranspose2d()"
   ]
  },
  {
   "cell_type": "code",
   "execution_count": null,
   "metadata": {},
   "outputs": [],
   "source": []
  }
 ],
 "metadata": {
  "kernelspec": {
   "display_name": "Python 3",
   "language": "python",
   "name": "python3"
  },
  "language_info": {
   "codemirror_mode": {
    "name": "ipython",
    "version": 3
   },
   "file_extension": ".py",
   "mimetype": "text/x-python",
   "name": "python",
   "nbconvert_exporter": "python",
   "pygments_lexer": "ipython3",
   "version": "3.6.6"
  }
 },
 "nbformat": 4,
 "nbformat_minor": 2
}
